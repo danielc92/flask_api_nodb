{
 "cells": [
  {
   "cell_type": "code",
   "execution_count": 19,
   "metadata": {},
   "outputs": [],
   "source": [
    "import requests"
   ]
  },
  {
   "cell_type": "markdown",
   "metadata": {},
   "source": [
    "### Retrieve employees"
   ]
  },
  {
   "cell_type": "code",
   "execution_count": 20,
   "metadata": {},
   "outputs": [
    {
     "name": "stdout",
     "output_type": "stream",
     "text": [
      "status code 200\n",
      "[{'dob': '1991-12-23', 'employee_id': '00001', 'full name': 'duke rogers', 'position': 'data analyst', 'salary': 60000}]\n"
     ]
    }
   ],
   "source": [
    "r = requests.get('http://localhost:4998/api/employees/show')\n",
    "print(f'status code {r.status_code}')\n",
    "print(r.json())"
   ]
  },
  {
   "cell_type": "markdown",
   "metadata": {},
   "source": [
    "### Retrieve one employee"
   ]
  },
  {
   "cell_type": "code",
   "execution_count": 21,
   "metadata": {},
   "outputs": [
    {
     "name": "stdout",
     "output_type": "stream",
     "text": [
      "status code 200\n",
      "{'failed': 'no employees with this id'}\n"
     ]
    }
   ],
   "source": [
    "r = requests.get('http://localhost:4998/api/employees/show/00007')\n",
    "print(f'status code {r.status_code}')\n",
    "print(r.json())"
   ]
  },
  {
   "cell_type": "code",
   "execution_count": 22,
   "metadata": {},
   "outputs": [
    {
     "name": "stdout",
     "output_type": "stream",
     "text": [
      "status code 200\n",
      "{'dob': '1991-12-23', 'employee_id': '00001', 'full name': 'duke rogers', 'position': 'data analyst', 'salary': 60000}\n"
     ]
    }
   ],
   "source": [
    "r = requests.get('http://localhost:4998/api/employees/show/00001')\n",
    "print(f'status code {r.status_code}')\n",
    "print(r.json())"
   ]
  },
  {
   "cell_type": "markdown",
   "metadata": {},
   "source": [
    "### Create new employee "
   ]
  },
  {
   "cell_type": "code",
   "execution_count": 29,
   "metadata": {},
   "outputs": [],
   "source": [
    "r = requests.post('http://localhost:4998/api/employees/create', \n",
    "                  json = [{'full name':'jessi sands',\n",
    "                          'dob':'1989-11-22',\n",
    "                          'position':'Accountant',\n",
    "                          'salary':60000},{'full name':'bob dillain'}])"
   ]
  },
  {
   "cell_type": "code",
   "execution_count": 30,
   "metadata": {},
   "outputs": [
    {
     "data": {
      "text/plain": [
       "200"
      ]
     },
     "execution_count": 30,
     "metadata": {},
     "output_type": "execute_result"
    }
   ],
   "source": [
    "r.status_code"
   ]
  },
  {
   "cell_type": "code",
   "execution_count": 31,
   "metadata": {},
   "outputs": [],
   "source": [
    "results = r.json()"
   ]
  },
  {
   "cell_type": "code",
   "execution_count": 32,
   "metadata": {},
   "outputs": [
    {
     "data": {
      "text/plain": [
       "[{'dob': '1991-12-23',\n",
       "  'employee_id': '00001',\n",
       "  'full name': 'duke rogers',\n",
       "  'position': 'data analyst',\n",
       "  'salary': 60000},\n",
       " [{'dob': '1989-11-22',\n",
       "   'full name': 'jessi sands',\n",
       "   'position': 'Accountant',\n",
       "   'salary': 60000},\n",
       "  {'full name': 'bob dillain'}]]"
      ]
     },
     "execution_count": 32,
     "metadata": {},
     "output_type": "execute_result"
    }
   ],
   "source": [
    "results"
   ]
  },
  {
   "cell_type": "code",
   "execution_count": null,
   "metadata": {},
   "outputs": [],
   "source": []
  }
 ],
 "metadata": {
  "kernelspec": {
   "display_name": "Python 3",
   "language": "python",
   "name": "python3"
  },
  "language_info": {
   "codemirror_mode": {
    "name": "ipython",
    "version": 3
   },
   "file_extension": ".py",
   "mimetype": "text/x-python",
   "name": "python",
   "nbconvert_exporter": "python",
   "pygments_lexer": "ipython3",
   "version": "3.6.5"
  },
  "toc": {
   "base_numbering": 1,
   "nav_menu": {},
   "number_sections": true,
   "sideBar": true,
   "skip_h1_title": false,
   "title_cell": "Table of Contents",
   "title_sidebar": "Contents",
   "toc_cell": false,
   "toc_position": {},
   "toc_section_display": true,
   "toc_window_display": false
  }
 },
 "nbformat": 4,
 "nbformat_minor": 2
}
